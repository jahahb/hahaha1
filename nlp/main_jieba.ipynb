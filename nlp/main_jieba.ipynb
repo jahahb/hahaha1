{
 "cells": [
  {
   "cell_type": "markdown",
   "id": "d866715d-963d-4f49-a208-55b22fa20df9",
   "metadata": {},
   "source": [
    "# 结巴分词实践"
   ]
  },
  {
   "cell_type": "markdown",
   "id": "fde43035-4669-467c-8f94-5343535ce461",
   "metadata": {},
   "source": [
    "## 结巴分词的三种模式"
   ]
  },
  {
   "cell_type": "markdown",
   "id": "7f0197b9-9864-4bc1-9f11-89b3d195de69",
   "metadata": {},
   "source": [
    "### 全模式"
   ]
  },
  {
   "cell_type": "code",
   "execution_count": 2,
   "id": "61dc98d4-4e94-4d93-b628-40df56f1ae14",
   "metadata": {},
   "outputs": [
    {
     "name": "stderr",
     "output_type": "stream",
     "text": [
      "Building prefix dict from the default dictionary ...\n",
      "Dumping model to file cache C:\\Users\\陈宠仁\\AppData\\Local\\Temp\\jieba.cache\n",
      "Loading model cost 0.575 seconds.\n",
      "Prefix dict has been built successfully.\n"
     ]
    },
    {
     "name": "stdout",
     "output_type": "stream",
     "text": [
      "Full Mode: 我/ 来到/ 北京/ 清华/ 清华大学/ 华大/ 大学\n"
     ]
    }
   ],
   "source": [
    "import jieba\n",
    "seg_list = jieba.cut(\"我来到北京清华大学\", cut_all=True)\n",
    "print(\"Full Mode: \" + \"/ \".join(seg_list))  # 全模式"
   ]
  },
  {
   "cell_type": "markdown",
   "id": "79a4b25d-6285-4d4a-84c9-44abe8338d8c",
   "metadata": {},
   "source": [
    "### 精确模式"
   ]
  },
  {
   "cell_type": "code",
   "execution_count": 3,
   "id": "0d79579c-af95-4da2-b95c-8fb2d1fce0ce",
   "metadata": {},
   "outputs": [
    {
     "name": "stdout",
     "output_type": "stream",
     "text": [
      "Default Mode: 我/ 来到/ 北京/ 清华大学\n"
     ]
    }
   ],
   "source": [
    "seg_list = jieba.cut(\"我来到北京清华大学\", cut_all=False)\n",
    "print(\"Default Mode: \" + \"/ \".join(seg_list))  # 精确模式"
   ]
  },
  {
   "cell_type": "markdown",
   "id": "7d3c8ded-f93f-4628-8a3d-8daa4122ed2b",
   "metadata": {},
   "source": [
    "### 搜素引擎模式"
   ]
  },
  {
   "cell_type": "code",
   "execution_count": 4,
   "id": "f7d83f87-4cd1-4a81-91ee-6da6aab13f52",
   "metadata": {},
   "outputs": [
    {
     "name": "stdout",
     "output_type": "stream",
     "text": [
      "小明, 硕士, 毕业, 于, 中国, 科学, 学院, 科学院, 中国科学院, 计算, 计算所, ，, 后, 在, 日本, 京都, 大学, 日本京都大学, 深造\n"
     ]
    }
   ],
   "source": [
    "seg_list = jieba.cut_for_search(\"小明硕士毕业于中国科学院计算所，后在日本京都大学深造\")  # 搜索引擎模式\n",
    "print(\", \".join(seg_list))"
   ]
  },
  {
   "cell_type": "markdown",
   "id": "68922bd6-6d02-472d-8b85-65b13c229955",
   "metadata": {},
   "source": [
    "### 载入词典"
   ]
  },
  {
   "cell_type": "code",
   "execution_count": 5,
   "id": "1885a68e-9d50-4b10-87aa-9e00a5e171dd",
   "metadata": {},
   "outputs": [
    {
     "name": "stdout",
     "output_type": "stream",
     "text": [
      "Default Mode: 陈/宠/仁/即将/是/自然语言/处理/方面/的/高手\n"
     ]
    }
   ],
   "source": [
    "jieba.load_userdict(\"userdict.txt\")\n",
    "seg_list = jieba.cut(\"陈宠仁即将是自然语言处理方面的高手\", cut_all=False, HMM=False)\n",
    "print(\"Default Mode: \" + \"/\".join(seg_list))"
   ]
  }
 ],
 "metadata": {
  "kernelspec": {
   "display_name": "Python 3 (ipykernel)",
   "language": "python",
   "name": "python3"
  },
  "language_info": {
   "codemirror_mode": {
    "name": "ipython",
    "version": 3
   },
   "file_extension": ".py",
   "mimetype": "text/x-python",
   "name": "python",
   "nbconvert_exporter": "python",
   "pygments_lexer": "ipython3",
   "version": "3.9.21"
  }
 },
 "nbformat": 4,
 "nbformat_minor": 5
}
